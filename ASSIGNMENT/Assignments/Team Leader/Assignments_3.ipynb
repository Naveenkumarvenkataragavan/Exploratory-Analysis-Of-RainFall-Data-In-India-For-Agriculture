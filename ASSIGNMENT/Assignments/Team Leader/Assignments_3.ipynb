{
 "cells": [
  {
   "cell_type": "markdown",
   "id": "a6c272b3",
   "metadata": {},
   "source": [
    "# Importing Libraries"
   ]
  },
  {
   "cell_type": "code",
   "execution_count": null,
   "id": "64e83896",
   "metadata": {},
   "outputs": [],
   "source": [
    "import numpy as np\n",
    "import pandas as pd\n",
    "import matplotlib.pyplot as plt\n",
    "import seaborn as sns\n",
    "from sklearn.model_selection import train_test_split\n",
    "from sklearn.preprocessing import LabelEncoder\n",
    "from sklearn.preprocessing import scale"
   ]
  },
  {
   "cell_type": "markdown",
   "id": "52f4141e",
   "metadata": {},
   "source": [
    "# Loading the Dataset"
   ]
  },
  {
   "cell_type": "code",
   "execution_count": null,
   "id": "84baa615",
   "metadata": {},
   "outputs": [],
   "source": [
    "df = pd.read_csv(\"abalone.csv\")"
   ]
  },
  {
   "cell_type": "code",
   "execution_count": null,
   "id": "66997671",
   "metadata": {},
   "outputs": [],
   "source": [
    "df.info()"
   ]
  },
  {
   "cell_type": "markdown",
   "id": "183266a5",
   "metadata": {},
   "source": [
    "# Univariate analysis"
   ]
  },
  {
   "cell_type": "code",
   "execution_count": null,
   "id": "a7c08e50",
   "metadata": {},
   "outputs": [],
   "source": [
    "df.describe()"
   ]
  },
  {
   "cell_type": "code",
   "execution_count": null,
   "id": "373fe4ea",
   "metadata": {},
   "outputs": [],
   "source": [
    "df[['Length','Rings']].describe()"
   ]
  },
  {
   "cell_type": "code",
   "execution_count": null,
   "id": "b5b024da",
   "metadata": {},
   "outputs": [],
   "source": [
    "df[['Length','Rings']].plot(kind=\"hist\")"
   ]
  },
  {
   "cell_type": "code",
   "execution_count": null,
   "id": "69d3c7fb",
   "metadata": {},
   "outputs": [],
   "source": [
    "sns.displot(df[['Length','Rings']])"
   ]
  },
  {
   "cell_type": "markdown",
   "id": "c24cc75c",
   "metadata": {},
   "source": [
    "# `Bivariate analysis"
   ]
  },
  {
   "cell_type": "code",
   "execution_count": null,
   "id": "d744f168",
   "metadata": {},
   "outputs": [],
   "source": [
    "df.hist(bins=50,figsize=(30,20));"
   ]
  },
  {
   "cell_type": "code",
   "execution_count": null,
   "id": "ddbe51a2",
   "metadata": {},
   "outputs": [],
   "source": [
    "df.plot.scatter(x='Length',y='Rings')"
   ]
  },
  {
   "cell_type": "code",
   "execution_count": null,
   "id": "a65de8ad",
   "metadata": {},
   "outputs": [],
   "source": [
    "plt.bar(df.Length,df.Rings)"
   ]
  },
  {
   "cell_type": "markdown",
   "id": "1875a3c0",
   "metadata": {},
   "source": [
    "# Multivariate analysis"
   ]
  },
  {
   "cell_type": "code",
   "execution_count": null,
   "id": "d5e30f76",
   "metadata": {},
   "outputs": [],
   "source": [
    "sns.heatmap(df.corr(),annot=True)"
   ]
  },
  {
   "cell_type": "markdown",
   "id": "48d71698",
   "metadata": {},
   "source": [
    "# Descriptive Statistics "
   ]
  },
  {
   "cell_type": "code",
   "execution_count": null,
   "id": "ad26b278",
   "metadata": {},
   "outputs": [],
   "source": [
    "df.info()"
   ]
  },
  {
   "cell_type": "code",
   "execution_count": null,
   "id": "c3ea6a3e",
   "metadata": {},
   "outputs": [],
   "source": [
    "df[['Length','Rings']].mean()"
   ]
  },
  {
   "cell_type": "code",
   "execution_count": null,
   "id": "f17dc528",
   "metadata": {},
   "outputs": [],
   "source": [
    "df[['Length','Rings']].median()"
   ]
  },
  {
   "cell_type": "code",
   "execution_count": null,
   "id": "196a433a",
   "metadata": {},
   "outputs": [],
   "source": [
    "df[['Length','Rings']].std()"
   ]
  },
  {
   "cell_type": "markdown",
   "id": "2039d5c8",
   "metadata": {},
   "source": [
    "# Handle the Missing values"
   ]
  },
  {
   "cell_type": "code",
   "execution_count": null,
   "id": "898463f5",
   "metadata": {},
   "outputs": [],
   "source": [
    "df.shape"
   ]
  },
  {
   "cell_type": "code",
   "execution_count": null,
   "id": "a6d3d5f5",
   "metadata": {},
   "outputs": [],
   "source": [
    "df.isnull().sum()"
   ]
  },
  {
   "cell_type": "markdown",
   "id": "40321560",
   "metadata": {},
   "source": [
    "# Find Outliers and Replacing"
   ]
  },
  {
   "cell_type": "code",
   "execution_count": null,
   "id": "0227248a",
   "metadata": {},
   "outputs": [],
   "source": [
    "sns.boxplot(x=df[\"Length\"])"
   ]
  },
  {
   "cell_type": "code",
   "execution_count": null,
   "id": "d2fcdbd1",
   "metadata": {},
   "outputs": [],
   "source": [
    "q2 = df.Length.quantile(0.25)\n",
    "q3 = df.Length.quantile(0.75)\n",
    "IQR = q3 - q2\n",
    "upper_limit = q3+1.5*IQR\n",
    "lower_limit = q2-1.5*IQR"
   ]
  },
  {
   "cell_type": "code",
   "execution_count": null,
   "id": "2271db49",
   "metadata": {},
   "outputs": [],
   "source": [
    "print(lower_limit)\n",
    "print(upper_limit)\n",
    "df[\"Length\"].head"
   ]
  },
  {
   "cell_type": "code",
   "execution_count": null,
   "id": "9e469722",
   "metadata": {},
   "outputs": [],
   "source": [
    "df[\"Length\"] = np.where(df[\"Length\"]<lower_limit,6.52,df[\"Length\"])"
   ]
  },
  {
   "cell_type": "code",
   "execution_count": null,
   "id": "668e37c9",
   "metadata": {},
   "outputs": [],
   "source": [
    "df[\"Length\"] = np.where(df[\"Length\"]<lower_limit,6.52,df[\"Length\"])\n",
    "sns.violinplot(x=df[\"Length\"])"
   ]
  },
  {
   "cell_type": "code",
   "execution_count": null,
   "id": "b9d71da9",
   "metadata": {},
   "outputs": [],
   "source": [
    "sns.boxplot(x=df[\"Rings\"])"
   ]
  },
  {
   "cell_type": "code",
   "execution_count": null,
   "id": "d07cd0de",
   "metadata": {},
   "outputs": [],
   "source": [
    "def find_outliers(df):\n",
    "    q4=df.quantile(0.25)\n",
    "    q5=df.quantile(0.75)\n",
    "    IQR=q4-q5\n",
    "    outliers=df[((df<(q4-1.5*IQR))|(df>(q5+1.5*IQR)))]\n",
    "    return outliers"
   ]
  },
  {
   "cell_type": "code",
   "execution_count": null,
   "id": "84975abe",
   "metadata": {},
   "outputs": [],
   "source": [
    "outliers=find_outliers(df[\"Rings\"])\n",
    "print(\"number of outliers:\"+str(len(outliers)))\n",
    "print(\"max outlier value:\"+str(outliers.max()))\n",
    "print(\"min outlier value:\"+str(outliers.min()))\n",
    "outliers"
   ]
  },
  {
   "cell_type": "code",
   "execution_count": null,
   "id": "7a59deda",
   "metadata": {},
   "outputs": [],
   "source": [
    "df[\"Rings\"] = np.where(df[\"Rings\"]<lower_limit,6.52,df[\"Rings\"])"
   ]
  },
  {
   "cell_type": "code",
   "execution_count": null,
   "id": "60967b38",
   "metadata": {},
   "outputs": [],
   "source": [
    "df[\"Rings\"] = np.where(df[\"Rings\"]<lower_limit,6.52,df[\"Rings\"])\n",
    "sns.violinplot(x=df[\"Rings\"])"
   ]
  },
  {
   "cell_type": "markdown",
   "id": "8d6a61b5",
   "metadata": {},
   "source": [
    "# check for Categorical columns and perform encoding"
   ]
  },
  {
   "cell_type": "code",
   "execution_count": null,
   "id": "2efeba39",
   "metadata": {},
   "outputs": [],
   "source": [
    "df_1=df.copy()\n",
    "labelencoder=LabelEncoder()\n",
    "df_1['Length']=labelencoder.fit_transform(df_1['Rings'])\n",
    "df_1[['Length','Rings']]"
   ]
  },
  {
   "cell_type": "markdown",
   "id": "bdfea8b9",
   "metadata": {},
   "source": [
    "# Split the datainto dependent and independent variables# "
   ]
  },
  {
   "cell_type": "code",
   "execution_count": null,
   "id": "a394cdf0",
   "metadata": {},
   "outputs": [],
   "source": [
    "y = df[\"Length\"]\n",
    "y"
   ]
  },
  {
   "cell_type": "code",
   "execution_count": null,
   "id": "bce4a46c",
   "metadata": {},
   "outputs": [],
   "source": [
    "X = df.drop(\"Length\",axis=1)\n",
    "X"
   ]
  },
  {
   "cell_type": "markdown",
   "id": "cb4c0eac",
   "metadata": {},
   "source": [
    "# Scale the independent variables"
   ]
  },
  {
   "cell_type": "code",
   "execution_count": null,
   "id": "b686d227",
   "metadata": {},
   "outputs": [],
   "source": [
    "scale=df.iloc[:,1:4].values\n",
    "print(\"\\n Original values:\\n\\n\",scale)"
   ]
  },
  {
   "cell_type": "code",
   "execution_count": null,
   "id": "1628190f",
   "metadata": {},
   "outputs": [],
   "source": [
    "from sklearn import preprocessing\n",
    "min_max_scale=preprocessing.MinMaxScaler(feature_range=(0,1))\n",
    "new_scale=min_max_scale.fit_transform(scale)\n",
    "print(\"'\\n Values After minmax scaling \\n\\n'\",new_scale)"
   ]
  },
  {
   "cell_type": "code",
   "execution_count": null,
   "id": "f7cc9e53",
   "metadata": {},
   "outputs": [],
   "source": [
    "Standardisation=preprocessing.StandardScaler()\n",
    "new_scale=Standardisation.fit_transform(scale)\n",
    "print(\"\\n\\n values after std : \\n\\n\",new_scale)"
   ]
  },
  {
   "cell_type": "markdown",
   "id": "0dd0c921",
   "metadata": {},
   "source": [
    "# Split the data into training and testing"
   ]
  },
  {
   "cell_type": "code",
   "execution_count": null,
   "id": "ae88954f",
   "metadata": {},
   "outputs": [],
   "source": [
    "from sklearn.model_selection import train_test_split "
   ]
  },
  {
   "cell_type": "code",
   "execution_count": null,
   "id": "34207c2f",
   "metadata": {},
   "outputs": [],
   "source": [
    "train_size=0.10"
   ]
  },
  {
   "cell_type": "code",
   "execution_count": null,
   "id": "32944d84",
   "metadata": {},
   "outputs": [],
   "source": [
    "x1=df.drop(columns=['Length']).copy()\n",
    "y1=df['Length']"
   ]
  },
  {
   "cell_type": "code",
   "execution_count": null,
   "id": "dfc3657d",
   "metadata": {},
   "outputs": [],
   "source": [
    "x1_train, x1_rem, y1_train, y1_rem=train_test_split(x1,y1, train_size=0.10)"
   ]
  },
  {
   "cell_type": "code",
   "execution_count": null,
   "id": "b71534b6",
   "metadata": {},
   "outputs": [],
   "source": [
    "test_size=0.5\n",
    "x1_valid,x1_test, y1_valid, y1_test=train_test_split(x1_rem,y1_rem,test_size=0.5)"
   ]
  },
  {
   "cell_type": "code",
   "execution_count": null,
   "id": "9029f13f",
   "metadata": {},
   "outputs": [],
   "source": [
    "print(x1_train.shape),print(y1_train.shape)"
   ]
  },
  {
   "cell_type": "code",
   "execution_count": null,
   "id": "be036ce3",
   "metadata": {},
   "outputs": [],
   "source": [
    "print(x1_valid.shape),print(y1_valid.shape)"
   ]
  },
  {
   "cell_type": "code",
   "execution_count": null,
   "id": "bec4b609",
   "metadata": {},
   "outputs": [],
   "source": [
    "print(x1_test.shape),print(y1_test.shape)"
   ]
  },
  {
   "cell_type": "code",
   "execution_count": null,
   "id": "c0b9bd3c",
   "metadata": {},
   "outputs": [],
   "source": [
    "from fast_ml.model_development import train_valid_test_split\n",
    "x1_train, y1_train, x1_valid, y1_valid, x1_test, y1_test=train_valid_test_split(df, target='Length',train_size=0.10,valid_size=0.1,test_size=0.1)"
   ]
  },
  {
   "cell_type": "code",
   "execution_count": null,
   "id": "6ffb3328",
   "metadata": {},
   "outputs": [],
   "source": [
    "print(x1_train.shape),print(y1_train.shape)"
   ]
  },
  {
   "cell_type": "code",
   "execution_count": null,
   "id": "765ecafc",
   "metadata": {},
   "outputs": [],
   "source": [
    "print(x1_valid.shape),print(y1_valid.shape)"
   ]
  },
  {
   "cell_type": "code",
   "execution_count": null,
   "id": "57901447",
   "metadata": {},
   "outputs": [],
   "source": [
    "print(x1_test.shape),print(y1_test.shape)"
   ]
  },
  {
   "cell_type": "markdown",
   "id": "a5f67a39",
   "metadata": {},
   "source": [
    "# Build the Model"
   ]
  },
  {
   "cell_type": "code",
   "execution_count": null,
   "id": "5cdfea53",
   "metadata": {},
   "outputs": [],
   "source": [
    "from sklearn.linear_model import LinearRegression"
   ]
  },
  {
   "cell_type": "code",
   "execution_count": null,
   "id": "0c2be18c",
   "metadata": {},
   "outputs": [],
   "source": [
    "from sklearn import datasets"
   ]
  },
  {
   "cell_type": "code",
   "execution_count": null,
   "id": "55323ec1",
   "metadata": {},
   "outputs": [],
   "source": [
    "z=datasets.load_iris()\n",
    "s=z.data\n",
    "d=z.target"
   ]
  },
  {
   "cell_type": "code",
   "execution_count": null,
   "id": "6d62583f",
   "metadata": {},
   "outputs": [],
   "source": []
  },
  {
   "cell_type": "code",
   "execution_count": null,
   "id": "43e281dd",
   "metadata": {},
   "outputs": [],
   "source": [
    "lr=LinearRegression()\n",
    "lr.fit(x1_train,y1_train)"
   ]
  },
  {
   "cell_type": "markdown",
   "id": "55ef9607",
   "metadata": {},
   "source": [
    "# Train the Model & Test the Model"
   ]
  },
  {
   "cell_type": "code",
   "execution_count": null,
   "id": "7e249c36",
   "metadata": {},
   "outputs": [],
   "source": [
    "y_lr_train_prt=lr.predict(x1_train)"
   ]
  },
  {
   "cell_type": "code",
   "execution_count": null,
   "id": "343066c7",
   "metadata": {},
   "outputs": [],
   "source": [
    "y_lr_test_prt=lr.predict(x1_test)"
   ]
  },
  {
   "cell_type": "markdown",
   "id": "50671017",
   "metadata": {},
   "source": [
    "# Measure the performance using Metrics1"
   ]
  },
  {
   "cell_type": "code",
   "execution_count": null,
   "id": "724fed4e",
   "metadata": {},
   "outputs": [],
   "source": [
    "from sklearn.metrics import mean_squared_error, r2_score"
   ]
  },
  {
   "cell_type": "code",
   "execution_count": null,
   "id": "d3ca95f2",
   "metadata": {},
   "outputs": [],
   "source": [
    "lr_train_ms=mean_squared_error(y1_train,y_lr_train_prt)\n",
    "lr_train_r2=r2_score(y1_train,y_lr_train_prt)\n",
    "lr_test_ms=mean_squared_error(y1_test,y_lr_test_prt)\n",
    "lr_test_r2=r2_score(y1_test,y_lr_test_pred)"
   ]
  },
  {
   "cell_type": "code",
   "execution_count": null,
   "id": "3dad97fa",
   "metadata": {},
   "outputs": [],
   "source": [
    "print(lr_train_ms)"
   ]
  },
  {
   "cell_type": "code",
   "execution_count": null,
   "id": "00d0c622",
   "metadata": {},
   "outputs": [],
   "source": []
  }
 ],
 "metadata": {
  "kernelspec": {
   "display_name": "Python 3 (ipykernel)",
   "language": "python",
   "name": "python3"
  },
  "language_info": {
   "codemirror_mode": {
    "name": "ipython",
    "version": 3
   },
   "file_extension": ".py",
   "mimetype": "text/x-python",
   "name": "python",
   "nbconvert_exporter": "python",
   "pygments_lexer": "ipython3",
   "version": "3.9.12"
  }
 },
 "nbformat": 4,
 "nbformat_minor": 5
}
